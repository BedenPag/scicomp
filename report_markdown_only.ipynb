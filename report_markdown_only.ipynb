{
 "cells": [
  {
   "attachments": {},
   "cell_type": "markdown",
   "metadata": {},
   "source": [
    "\\section{Software Summary}\n",
    "\n",
    "**Euler and Runge-Kutta methods for solving ODEs**\n",
    "\n",
    "The Euler method is a first-order numerical method for solving ordinary differential equations (ODEs). It uses a forward difference approximation to estimate the derivative of the solution at each time step and updates the solution accordingly. \n",
    "\n",
    "Euler's method has a first-order global truncation error ($O(h)$), which means that the error in the approximation is proportional to the time step. It is simple to implement but may not be accurate for stiff ODEs which are ODEs with rapidly changing or oscillatory solutions.\n",
    "\n",
    "Runge-Kutta methods are a family of numerical methods for solving ODEs. These methods work by approximating the solution of an ODE at discrete time steps. The most commonly used Runge-Kutta method is the fourth-order Runge-Kutta (RK4). The RK4 method uses a weighted average of four derivative evaluations to estimate the derivative of the solution at each time step.\n",
    "\n",
    "RK4 has a fourth-order global truncation error ($O(h^4)$), so it is more accurate than Euler's method. It is also important to note that RK4 is more robust to stiff ODEs than Euler's method.\n",
    "\n",
    "The following code plots the solution and compares the accuracy of Euler's method and RK4 for the following first-order ODE,\n",
    "\\begin{equation}\n",
    "\\frac{dx}{dt} = -x\n",
    "\\end{equation}\n",
    "\n",
    "where $x(0) = 1$."
   ]
  },
  {
   "attachments": {},
   "cell_type": "markdown",
   "metadata": {},
   "source": [
    "The plot above shows that RK4 is more accurate than Euler's method for different time steps. Because it is a fourth-order method, it uses higher-order polynomial approximations to estimate the slope of the solution curve at each time step. On the other hand, RK4 is more computationally expensive than Euler's method because it requires four derivative evaluations at each time step.\n",
    " \n",
    "The same function also works for solving second-order ODE. To present this the following ODE will be used,\n",
    "\n",
    "\\begin{equation}\n",
    "\\frac{d^2 u}{dt^2} = -u,\n",
    "\\end{equation}\n",
    "\n",
    "where $u = (x,y)$, $x(0) = 1$ and $y(0) = 1$."
   ]
  },
  {
   "attachments": {},
   "cell_type": "markdown",
   "metadata": {},
   "source": [
    "The plot above shows that, for a step size of $h = 0.1$, RK4 is very accurate while Euler's method is not. This is because of the aforementioned higher-order polynomial approximations used by RK4."
   ]
  },
  {
   "attachments": {},
   "cell_type": "markdown",
   "metadata": {},
   "source": [
    "**Numerical Shooting Method**\n",
    "\n",
    "The numerical shooting method is a numerical method for solving boundary value problems (BVPs) for ODEs. BVPs are differential equations within a domain with defined constraints, called boundary conditions. Numerical shooting is particularly useful for solving BVPs where the boundary conditions are unknown or difficult to determine.\n",
    "\n",
    "In Shooting_method.py the shooting function solves a one-dimensional ODE, while the shooting2 function solves a two-dimensional ODE. Both functions use the phase_condition and phase_condition2 functions respectively, which define the phase condition for the ODE system.\n",
    "\n",
    "The solve_to_shooting function is the main function for solving the ODE using the shooting method. If the input initial values are for a two-dimensional system, then solve_to_shooting calls the shooting2 function, otherwise, it calls the shooting function. After finding the initial value for the dependent variable using the shooting method, it calls the solve_to function from the ODEsolve.py file to solve the ODE using the given step function. The function then returns the time and dependent variable values.\n",
    "\n",
    "The following code implements the shooting method to solve any BVP in the form $\\frac{dx}{dt} = eqn_1, \\frac{dy}{dt} = eqn_2$. The simple predator-prey model is described by the following system of ODEs:\n",
    "\n",
    "\\begin{equation} \n",
    "    \\frac{dx}{dt} = x \\cdot (1 - x) - \\frac{a \\cdot x \\cdot y}{d + x},\n",
    "\\end{equation}\n",
    "\n",
    "\\begin{equation}\n",
    "    \\frac{dy}{dt} = b \\cdot y \\cdot \\left(1 - \\frac{y}{x}\\right),\n",
    "\\end{equation}\n",
    "\n",
    "where x(t) represents the population of prey, y(t) represents the population of predators, and a, b, and d are parameters.\n"
   ]
  },
  {
   "attachments": {},
   "cell_type": "markdown",
   "metadata": {},
   "source": [
    "The code can be tested with different initial conditions and parameter values to study the behaviour of the predator-prey model. Such as the stability or the existence of multiple equilibria. The results can be compared with other numerical methods to validate the accuracy of the method. By plotting the phase portrait of the system when $b <  0.26$ we see there is a stable limit cycle because the prey and predator populations oscillate around the equilibrium point. When $b > 0.26$ the system has a stable equilibrium point because the populations converge to the equilibrium point."
   ]
  },
  {
   "attachments": {},
   "cell_type": "markdown",
   "metadata": {},
   "source": [
    "**Numerical Continuation Method**\n",
    "\n",
    "The numerical continuation method is a method for approximating the solutions to a system of parameterized nonlinear equations. \n",
    "\n",
    "The system is in the form $F(\\textbf{u}, \\lambda) = 0$, where $\\textbf{u}$ is the solution vector and $\\lambda$ is a parameter. The method also requires an initial solution ($\\textbf{u}_0, \\lambda{_0}$). The method works by solving the system of equations for different values of $\\lambda$ and then adjusting the parameter values until the solutions converge to the desired solutions.\n",
    "\n",
    "Continuation methods are advantagious when studying bifurcation behaviors or stability as the parameter changes. Two common algorithms are natural parameter continuation and pseudo-arclength continuation.\n",
    "\n",
    "Natural parameter continuation is the simplest continuation method. It works by updating the parameter value by a small step and then solving the system of equations again to obtain the solution at the updated parameter value. \n",
    "\n",
    "Psuedo-arclength continuation differs from natural parameter continuation in that it uses the tangent vector of the solution curve as the direction of the parameter update. It then calculates the step size using the following formula,\n",
    "\n",
    "\\begin{equation}\n",
    "    \\Delta s = \\dot{u}_0^* (u - u_0) + \\dot{\\lambda}_0^* (\\lambda - \\lambda_0),\n",
    "\\end{equation}\n",
    "\n",
    "where ($\\dot{u}_0^*, \\dot{\\lambda}_0^*$) is the tangent vector at ($u_0, \\lambda_0$).\n",
    "\n",
    "Psuedo-arclength continuation is more complex and computationally expensive than natural parameter continuation, but it is more robust as it can handle situations where the tangent vector becomes small or vanishes, which can occur at bifurcation points.\n",
    "\n",
    "Natural parameter continuation is more efficient than pseudo-arclength continuation because it does not require the computation of the Jacobian matrix. Though, it is less robust as it fails at turning points.\n",
    "\n",
    "The following code implements natural parameter continuation and pseudo-arclength continuation to solve the following cubic equation,\n",
    "\n",
    "\\begin{equation}\n",
    "    x^3 - x + c = 0,\n",
    "\\end{equation}\n",
    "\n",
    "where $-2 \\leq c \\leq 2$.\n",
    "\n"
   ]
  },
  {
   "attachments": {},
   "cell_type": "markdown",
   "metadata": {},
   "source": [
    "The plots display the advantage of using pseudo-arclength continuation over natural parameter continuation. The natural parameter continuation method fails at the turning points, while the pseudo-arclength continuation method does not."
   ]
  },
  {
   "attachments": {},
   "cell_type": "markdown",
   "metadata": {},
   "source": [
    "**Method of Lines**\n",
    "\n",
    "The method of lines (MOL) is a numerical method to approximate solutions to partial differential equations (PDEs) on a uniform discrete grid. It works by discretizing the spatial domain using finite differences. This then allows us to write the PDE as an initial value problem (IVP) or a boundary value problem (BVP) in ODEs, which can be solved using a numerical method.\n",
    "\n",
    "Three types of boundary conditions can be applied to a BVP; Dirichlet, Neumann, and Robin. A Dirichlet boundary condition is where the boundary value is the solution. A Neumann boundary condition is where the derivative of the solution is the boundary value. A Robin boundary condition is a combination of Dirichlet and Neumann boundary conditions where the boundary value is the derivative of the solution plus a function.\n",
    "\n",
    "To illustrate the use of finite differences with these boundary conditions, we can consider the BVP,\n",
    "\\begin{equation}\n",
    " \\frac{d^2u}{dx^2} + q(x) = 0, u(a) = 0, u(b) = 0.\n",
    "\\end{equation}\n",
    "We will set $q(x) = 1$, $a = 0$, and $b = 1$ for simplicity. By applying Dirichlet boundary conditions and obtaining different solutions we can see how the approximations differ from the exact solution $u_{\\text{exact}} = \\frac{1}{2} \\cdot x \\cdot (1 - x)$. For Neumann and Robin boundary conditions, the approximations are not similar to the exact solution but are similar to one another. This is because the Neumann and Robin boundary conditions impose constraints on the derivative of the solution at the boundary, rather than providing the values of the solution itself."
   ]
  },
  {
   "cell_type": "markdown",
   "metadata": {},
   "source": [
    "For each type of boundary condition, the numerical approximation has a significant truncation error when $N = 21$. By setting $N = 101$ the step size is much smaller therefore, the error is much smaller."
   ]
  },
  {
   "attachments": {},
   "cell_type": "markdown",
   "metadata": {},
   "source": [
    "The BVP solver also works when the source term $q(x)$ is a function of $x$. For example, we can evaluate the Bratu equation with $q(x) = e^{0.1x}$."
   ]
  },
  {
   "attachments": {},
   "cell_type": "markdown",
   "metadata": {},
   "source": [
    "**Explicit Euler, Implicit Euler, and Crank-Nicolson Methods for PDEs**\n",
    "\n",
    "PDEs can be converted to a system of ODEs using the method of lines and can therefore be solved using numerical methods for ODEs. \n",
    "\n",
    "The explicit Euler method, as mentioned earlier, is a first-order method that approximates the derivative in time using a forward difference. But because a system of ODEs is being solved, the central difference approximation is also used to evaluate the second derivative in space. The basic formula for the explicit Euler method therefore becomes,\n",
    "\n",
    "\\begin{equation}\n",
    "u_{x,t+1} = u_{x,t} + \\frac{D\\Delta t}{(\\Delta x)^2}* \\left( u_{x+1,t} - 2u_{x,t} + u_{x-1,t} \\right),\n",
    "\\end{equation}\n",
    "\n",
    "where $u_{x,t}$ is the approximate solution at time $t$ and space $x$, $\\Delta t$ is the time step, $\\Delta x$ is the space step, and $D$ is the diffusion coefficient.\n",
    "\n",
    "This is the simplest method for solving a system of ODEs but it has some drawbacks. The method is first-order accurate in time and second-order accurate in space making it the least accurate of the three methods.  It is also unstable if,\n",
    "\n",
    "\\begin{equation}\n",
    "\\frac{D\\Delta t}{(\\Delta x)^2} > \\frac{1}{2},\n",
    "\\end{equation}\n",
    "\n",
    "which can be restrictive for small values of $\\Delta x$. The explicit Euler method is also unsuitable for solving stiff ODEs because it is a first-order method. \n",
    "\n",
    "The implicit Euler method is a first-order method that approximates the derivative in time using a backward difference instead. This means that the method is unconditionally stable. However, it is computationally more expensive than the explicit Euler method when computing the next time step. Like explicit Eluer, the implicit Euler method is a first-order method, it is not suitable for solving stiff ODEs either. Also like explicit Euler, the implicit Euler method is first-order accurate in time and second-order accurate in space so it is still not very accurate. \n",
    "\n",
    "The Crank-Nicolson method is a second-order method that approximates the derivative in time using a central difference. It uses a central difference approximation for both the first and second derivatives. This means that the method is unconditionally stable and is suitable for solving stiff ODEs. It is also more accurate than the other two methods because it is second-order accurate in time and space. \n",
    "\n",
    "To illustrate the use of each method, we can consider the second-order PDE,\n",
    "\n",
    "\\begin{equation}\n",
    "\\frac{du}{dt} = D\\frac{d^2u}{dx^2} + q(x)\n",
    "\\end{equation}\n",
    "\n",
    "where $D$ is the diffusion coefficient and $q(x)$ is the source term. We will set $D = 1$ for simplicity. The initial condition is $u(x,0) = 0$ and the boundary conditions are $u(0,t) = 0$ and $u(1,t) = 0$. The code uses the same boundary types as the previous section. The first set of plots shows the solutions for $q(x) = 1$, the second set of plots shows the solutions for $q(x) = e^{0.1x}$ and the third set of plots shows the solutions for $q(x,u) = (1-u) \\cdot e^{-x}$."
   ]
  },
  {
   "attachments": {},
   "cell_type": "markdown",
   "metadata": {},
   "source": [
    "The plots show that the Crank-Nicolson method is more accurate than the other two methods. "
   ]
  },
  {
   "attachments": {},
   "cell_type": "markdown",
   "metadata": {},
   "source": [
    "\\section{Software Design Decisions}\n",
    "\n",
    "**ODE Solver**\n",
    "\n",
    "In the file 'ODEsolve.py' I separated the functions into smaller ones that do simpler tasks in this file because of the uses each could have in other solvers. For example, the euler_step and rk4_step functions are used in the shooting method solver. The modularity of the ODE solver is important as it allows the user to input their own one or two-dimensional ODEs and initial conditions. The step function is also taken as input so the user can choose or even create their step function to use in the solver. \n",
    "\n",
    "The code is very readable and easy to understand because of the use of descriptive variable names and comments. Additionally, the functions are properly documented with docstrings explaining their inputs, outputs, and purpose. This makes it easy for the user to understand the code.\n",
    "\n",
    "The ODE solver is also reliable by raising errors when the user inputs invalid arguments. For example, if the user inputs a step function that is not callable, the solver will raise a TypeError. Every error message is descriptive and explains what the user did wrong which makes it easy for the user to fix their mistake. I attempted unit testing for the ODE solver but I was not able to get it to work. I would like to learn how to do this in the future because it would make the code much more reliable. The only limitation to the solver is that the ODE must be one or two-dimensional but I believe this is a reasonable limitation. Other than that, the solver is very robust and can solve any ODE as long as the user inputs the correct arguments.\n",
    "\n",
    "**Numerical Shooting Method**\n",
    "\n",
    "The file Shooting_method.py contains functions for solving one and two-dimensional ODEs using the shooting method. The code is easy to read and understand because each function is well-named and has a docstring explaining its purpose, inputs, and outputs. Each function is succinct and does one specific task. This makes the code modular and easy to use in other solvers if needed. The code is also reliable because the arguments are checked for validity before the code is executed. Overall the file is well-organized and efficient at solving ODEs. However, the code is not very robust because it can only solve one and two-dimensional ODEs.\n",
    "\n",
    "**Numerical continuation**\n",
    "\n",
    "The file 'Numerical_continuation.py' uses larger functions than previous files because these functions are not used in other solvers. The functions are well-named and explain their purpose to the user effectively. The two main functions perform natural parameter continuation and pseudo-arclength continuation. Both use the 'root' function within Scipy. I chose to use this function over 'fsolve' because it can keep track of the success and failure of the solver. This allowed me to output the range at which the solver failed when using the natural parameter method. I also started using Numpy arrays instead of lists in this file because they are more capable of doing mathematical operations. They are also quicker than lists which is important when using large arrays. I was unable to figure out how to use continuation on a two-dimensional ODE so the code is limited to one-dimensional ODEs. As a result of this, I felt it was not necessary to do unit testing for this file.\n",
    "\n",
    "**BVP solver and MOL class**\n",
    "\n",
    "For the BVP solver, I decided to use classes so that all the information to create boundary conditions was in one place. This turned out to be effective as the PDE solver also uses the same class. The file 'MethodOfLines_class.py' contains two classes. The 'Grid' class creates a discrete grid and the 'BoundaryCondition' class creates the boundary conditions. There is also a function to construct A and b matrices that the 'BoundaryCondition' class can manipulate depending on the boundary type. I chose to do it this way because it allows the user to create their own boundary conditions by creating a new instance of the 'BoundaryCondition' class. The file 'BVPsolve.py' is well-organized and allows the user complete freedom to create their own boundary conditions because there are 9 different arguments to modify. The code uses Numpy's 'linalg' module to solve the system of equations. The code is also reliable because it checks for invalid arguments before executing the code. I feel this is my best code because it is very robust and can solve any BVP as long as the user inputs the correct arguments. I tried performing unit testing for this file but I was not able to get it to work. \n",
    "\n",
    "**PDE solver**\n",
    "\n",
    "The file 'PDEsolve.py' contains two functions, one for solving a PDE and one for plotting the solution. The 'solve_pde' function is longer than I hoped for but I was not able to find a way to make it shorter or split it into smaller functions. The function is well-documented so it is easy for the user to understand what each argument does. The function is also reliable because there are lots of checks for invalid arguments. I created a solver for just explicit Euler called 'EEmethod.py' that worked well, but it was messy and slow. So, like the BVP solver, the PDE solver uses the MOL class to create the matrices and Numpy's 'linalg' module to solve the system of equations. This code is also very robust because it has provided a solution to every different source term I have tried. I chose not to do unit testing for this file because I ran out of time and was unsuccessful in my attempts for other files.\n",
    "\n",
    "\\section{Reflective Learning Log}\n",
    "\n",
    "Throughout this unit, I have gained a wealth of knowledge regarding software engineering principles. As well as how to tackle the challenges involved in developing functional and well-documented code. One of the most valuable lessons I have learned is the importance of thoroughly understanding the problem before beginning the code. At the start of the course, I was rushing through sections that ended up causing a lot of hassle later down the line. By mapping out precisely what needs to be done beforehand, the issues became much clearer towards the end of the course. In addition, planning enabled me to consider the program's structure.\n",
    "Furthermore, I have discovered that writing docstrings for the code as I go along is an effective way to approach this task. Initially, I had planned to complete this step at the end, but I soon realized that it is much more beneficial doing it as I went. Describing what the function does, the inputs it requires, and the outputs it produces helped me view the function as part of the bigger picture.\n",
    "\n",
    "Technically, I have gained valuable abilities. I have learned how useful classes can be when done correctly. Moreover, I have improved my use of git. By committing changes regularly as soon as a piece of code works, I can keep a log of my work and rectify any future errors by reverting to prior commits.\n",
    "\n",
    "This course has also encouraged me to think more critically about the quality of my code. I now consider how different functions interact and pass values to one another and how to make it more user-friendly for others to use and develop. These skills will undoubtedly serve me well in future professional endeavours and when revisiting old code projects.\n",
    "\n",
    "If allowed to start the unit again, I would thoroughly plan what I want out of each function. I would also seek more assistance from the TAs early on to help me understand how functions should interact. Doing this would give me the time to perform unit testing on all my code, which is a skill I would like to learn. To increase modularity, I would use more classes. To make my code more reliable, I would make each function more general so it is possible to solve higher-dimension differential equations. Finally, to improve efficiency I would use sparse matrices for BVPs and PDEs as well as implement Numpy arrays throughout the functions."
   ]
  }
 ],
 "metadata": {
  "kernelspec": {
   "display_name": "Python 3 (ipykernel)",
   "language": "python",
   "name": "python3"
  },
  "language_info": {
   "codemirror_mode": {
    "name": "ipython",
    "version": 3
   },
   "file_extension": ".py",
   "mimetype": "text/x-python",
   "name": "python",
   "nbconvert_exporter": "python",
   "pygments_lexer": "ipython3",
   "version": "3.9.13"
  }
 },
 "nbformat": 4,
 "nbformat_minor": 2
}
