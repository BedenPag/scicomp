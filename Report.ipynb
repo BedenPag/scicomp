{
 "cells": [
  {
   "cell_type": "code",
   "execution_count": 8,
   "metadata": {},
   "outputs": [],
   "source": [
    "import numpy as np\n",
    "import scipy.optimize\n",
    "import matplotlib.pyplot as plt\n"
   ]
  },
  {
   "attachments": {},
   "cell_type": "markdown",
   "metadata": {},
   "source": [
    "The finite-difference method is a numerical method to approximate solutions to partial differential equations (PDEs) on a uniform discrete grid. It works by approximating the derivative at each grid point using finite differences. Boundary value problems (BVPs) are differential equations within a domain with defined constraints, called boundary conditions. Hence the solution to the PDE must satisfy these boundary conditions. The local truncation error is proportional to the step size. Therefore, increasing the number of points in the grid makes the approximation more accurate.\n",
    "\n",
    "A Dirichlet boundary condition is where the boundary value is the solution. A Neumann boundary condition is where the derivative of the solution is the boundary value. A Robin boundary condition is a combination of Dirichlet and Neumann boundary conditions. The boundary value is the derivative of the solution plus a function.\n",
    "\n",
    "To illustrate the use of finite differences with these boundary conditions, we can consider the BVP,\n",
    "\\begin{equation}\n",
    " d^2u/dx^2 + q(x) = 0, u(a) = 0, u(b) = 0.\n",
    "\\end{equation}\n",
    "We will set $q(x) = 1$, $a = 0$, and $b = 1$ for simplicity. By applying Dirichlet, Neumann, and Robin boundary conditions and obtaining different solutions we can see how the approximations differ from the exact solution $u_{\\text{exact}} = \\frac{1}{2} \\cdot x \\cdot (1 - x)$."
   ]
  },
  {
   "cell_type": "code",
   "execution_count": 10,
   "metadata": {},
   "outputs": [
    {
     "ename": "ImportError",
     "evalue": "cannot import name 'solve_bvp' from 'BVPsolve' (c:\\Users\\Eden Page\\Documents\\GitHubbius\\scicomp\\BVPsolve.py)",
     "output_type": "error",
     "traceback": [
      "\u001b[1;31m---------------------------------------------------------------------------\u001b[0m",
      "\u001b[1;31mImportError\u001b[0m                               Traceback (most recent call last)",
      "Cell \u001b[1;32mIn[10], line 1\u001b[0m\n\u001b[1;32m----> 1\u001b[0m \u001b[39mfrom\u001b[39;00m \u001b[39mBVPsolve\u001b[39;00m \u001b[39mimport\u001b[39;00m solve_bvp\n\u001b[0;32m      2\u001b[0m N \u001b[39m=\u001b[39m \u001b[39m21\u001b[39m; a \u001b[39m=\u001b[39m \u001b[39m0\u001b[39m; b \u001b[39m=\u001b[39m \u001b[39m1\u001b[39m\n\u001b[0;32m      3\u001b[0m alpha \u001b[39m=\u001b[39m \u001b[39m0\u001b[39m; beta \u001b[39m=\u001b[39m \u001b[39m0\u001b[39m; gamma \u001b[39m=\u001b[39m \u001b[39m1\u001b[39m; delta \u001b[39m=\u001b[39m \u001b[39m0\u001b[39m\n",
      "\u001b[1;31mImportError\u001b[0m: cannot import name 'solve_bvp' from 'BVPsolve' (c:\\Users\\Eden Page\\Documents\\GitHubbius\\scicomp\\BVPsolve.py)"
     ]
    }
   ],
   "source": [
    "from BVPsolve import solve_bvp\n",
    "N = 21; a = 0; b = 1\n",
    "alpha = 0; beta = 0; gamma = 1; delta = 0\n",
    "q = lambda x: np.ones(np.size(x))\n",
    "solve_bvp(N, a, b, alpha, beta, q, \"dirichlet\")\n",
    "solve_bvp(N, a, b, alpha, beta, q, \"neumann\", delta=delta)\n",
    "solve_bvp(N, a, b, alpha, beta, q, \"robin\", gamma=gamma)"
   ]
  },
  {
   "attachments": {},
   "cell_type": "markdown",
   "metadata": {},
   "source": []
  }
 ],
 "metadata": {
  "kernelspec": {
   "display_name": "SCI",
   "language": "python",
   "name": "python3"
  },
  "language_info": {
   "codemirror_mode": {
    "name": "ipython",
    "version": 3
   },
   "file_extension": ".py",
   "mimetype": "text/x-python",
   "name": "python",
   "nbconvert_exporter": "python",
   "pygments_lexer": "ipython3",
   "version": "3.9.13"
  },
  "orig_nbformat": 4
 },
 "nbformat": 4,
 "nbformat_minor": 2
}
